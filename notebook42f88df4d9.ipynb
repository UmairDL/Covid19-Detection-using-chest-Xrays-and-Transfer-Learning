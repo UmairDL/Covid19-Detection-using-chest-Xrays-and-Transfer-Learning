{
 "cells": [
  {
   "cell_type": "code",
   "execution_count": null,
   "id": "cdc3fa63",
   "metadata": {
    "_cell_guid": "bfb86fa0-3f9d-41b8-a021-971461577600",
    "_uuid": "ab614f17-8f57-4823-a4f2-73a0567069a0",
    "collapsed": false,
    "jupyter": {
     "outputs_hidden": false
    },
    "papermill": {
     "duration": 0.002153,
     "end_time": "2022-06-07T15:54:24.078180",
     "exception": false,
     "start_time": "2022-06-07T15:54:24.076027",
     "status": "completed"
    },
    "tags": []
   },
   "outputs": [],
   "source": []
  }
 ],
 "metadata": {
  "kernelspec": {
   "display_name": "Python 3",
   "language": "python",
   "name": "python3"
  },
  "language_info": {
   "codemirror_mode": {
    "name": "ipython",
    "version": 3
   },
   "file_extension": ".py",
   "mimetype": "text/x-python",
   "name": "python",
   "nbconvert_exporter": "python",
   "pygments_lexer": "ipython3",
   "version": "3.7.12"
  },
  "papermill": {
   "default_parameters": {},
   "duration": 9.286132,
   "end_time": "2022-06-07T15:54:24.701656",
   "environment_variables": {},
   "exception": null,
   "input_path": "__notebook__.ipynb",
   "output_path": "__notebook__.ipynb",
   "parameters": {},
   "start_time": "2022-06-07T15:54:15.415524",
   "version": "2.3.4"
  }
 },
 "nbformat": 4,
 "nbformat_minor": 5
}
